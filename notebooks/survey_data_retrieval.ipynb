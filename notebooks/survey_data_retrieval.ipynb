{
 "cells": [
  {
   "cell_type": "code",
   "execution_count": null,
   "id": "79ab8615-18e8-4bc7-9ac5-2618185f3a85",
   "metadata": {},
   "outputs": [],
   "source": [
    "!pip install requests beautifulsoup4"
   ]
  },
  {
   "cell_type": "markdown",
   "id": "a08f585c-9a91-4098-9bce-cbd0a22fac4d",
   "metadata": {},
   "source": [
    "# Data Retrieval"
   ]
  },
  {
   "cell_type": "code",
   "execution_count": 3,
   "id": "5ed75480-143f-4929-9cbd-075ff5dd655c",
   "metadata": {},
   "outputs": [],
   "source": [
    "from bs4 import BeautifulSoup\n",
    "import pandas as pd\n",
    "\n",
    "# Specify the path to your local HTML file\n",
    "file_path = '../data/student-voice-survey.html'\n",
    "\n",
    "# Read the HTML content from the local file\n",
    "with open(file_path, 'r', encoding='utf-8') as file:\n",
    "    html_content = file.read()\n",
    "\n",
    "# Parse the HTML content using BeautifulSoup\n",
    "soup = BeautifulSoup(html_content, 'html.parser')\n",
    "\n",
    "# Find all elements with a specific class (replace 'your-class' with the actual class name)\n",
    "elements_with_class = soup.find_all(class_='main-container')\n",
    "\n",
    "records = []\n",
    "\n",
    "# Print or process the found elements\n",
    "for element in elements_with_class:\n",
    "    school = element.find(class_ = 'comment-school-name').text\n",
    "    comment = element.find(class_ = 'comment-container').text\n",
    "\n",
    "    records.append({'School': school, 'Comment': comment})\n",
    "\n",
    "# Create a DataFrame from the list of dictionaries\n",
    "df = pd.DataFrame(records)\n",
    "\n",
    "# Save df to csv\n",
    "df.to_csv('../data/SMILE-College Dataset/survey.csv')"
   ]
  },
  {
   "cell_type": "code",
   "execution_count": null,
   "id": "780424ff-400e-4ed2-ba99-92a35350763a",
   "metadata": {},
   "outputs": [],
   "source": []
  }
 ],
 "metadata": {
  "kernelspec": {
   "display_name": "SMILE",
   "language": "python",
   "name": "smile"
  },
  "language_info": {
   "codemirror_mode": {
    "name": "ipython",
    "version": 3
   },
   "file_extension": ".py",
   "mimetype": "text/x-python",
   "name": "python",
   "nbconvert_exporter": "python",
   "pygments_lexer": "ipython3",
   "version": "3.11.9"
  }
 },
 "nbformat": 4,
 "nbformat_minor": 5
}
